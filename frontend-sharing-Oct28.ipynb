{
 "cells": [
  {
   "cell_type": "markdown",
   "metadata": {},
   "source": [
    "# Frontend sharing - Oct 26th, 2018\n",
    "\n",
    "\n",
    "## Topic: Basics about Machine Learning\n",
    "------"
   ]
  },
  {
   "cell_type": "markdown",
   "metadata": {},
   "source": [
    "### Outlines:\n",
    "\n",
    "1. **What is Machine Learning**\n",
    "2. **Terminologies**\n",
    "3. **Machine Learning - Types of task**\n",
    "    * Supervised Learning\n",
    "    * Semi-supervised Learning\n",
    "    * Active Learning\n",
    "    * Unsupervised Learning\n",
    "    * Reinforcement Learning\n",
    "4. **Applications**\n",
    "5. **Examples**\n",
    "    * Linear Regression\n",
    "    * Logistic Regression\n",
    "    * K-Neares Neighbors\n",
    "    * Decision Tree\n",
    "    * Support Vector Machines\n",
    "    * K-Means\n",
    "    * Somethings about Deep Learning\n",
    "    * Toys about Reinforcement Learning: **Q-Learning** & **Alpha-Go Zero**\n",
    "6. Bonus: **Dimensionality Reduction**\n",
    "    * Singular Value Decomposition\n",
    "    * Principle Component Analysis\n",
    "\n",
    "\n",
    "---"
   ]
  },
  {
   "cell_type": "markdown",
   "metadata": {},
   "source": [
    "### Part 1: What is Machine Learning?\n",
    "\n",
    "* *Statistical techniques* for computer to **learn**\n",
    "    \n",
    "    * **learn**: progressively improve performance on a specific task\n",
    "* Without explicity programmed\n",
    "* **Data-driven!**\n",
    "\n",
    "-----"
   ]
  },
  {
   "cell_type": "markdown",
   "metadata": {},
   "source": [
    "### Part 2: Terminologies\n",
    "\n",
    "* **training set, testing set, validation set**: set of data to **train, test, validate** algorithm/model.\n",
    "* **labeled/unlabled data**: data which contain input but have/doesn't have corresponding output.\n",
    "-----"
   ]
  },
  {
   "cell_type": "markdown",
   "metadata": {},
   "source": [
    "### Part 3: Machine Learning - Types of task\n",
    "\n",
    "1. **Supervised Learning**\n",
    "    * Input and output are **both** provided.\n",
    "    * *Goal*: Learn **a general rule** to **map** input to output.\n",
    "    * Very sensitive with noise!    \n",
    "2. **Semi-supervised Learning**\n",
    "    * Input and output are **both** provided, but input is an **incomplete training signal**:\n",
    "        * **Incomplete training signal**: a training set with some (*but often many!*) of target outputs missing.\n",
    "    * *Goal*: Learn **a general rule** to **map** input to **existing** output.\n",
    "3. **Active Learning**\n",
    "    * Input and output are **both** provided, but input is an **incomplete training signal**.\n",
    "    * Learning algorithms can actively query the user/teacher for labels of *incomplete training signal*\n",
    "4. **Unsupervised Learning**\n",
    "    * Unlabled data is given, leaving it on its own to find structure of its input.\n",
    "    * *Goal*: Discovering hidden patterns in data or *feature learning*. \n",
    "5. **Reinforcement Learning**\n",
    "    * Data contains **rewards and punishments**\n",
    "    * Important terms.: Environment, Agent, Action and Reward.\n",
    "    * Data are given only as feedback!\n",
    "    ![Typical framing of RL](images/Reinforcement_learning_diagram.png)\n",
    "    \n",
    "-----"
   ]
  },
  {
   "cell_type": "markdown",
   "metadata": {},
   "source": [
    "### Part 4: Machine Learning - Application\n",
    "\n",
    "1. **Classification**: inputs are divided into two or more classes, and the learner must produce a model that assigns unseen inputs to one or more (multi-label classification) of these classes. **Typically tackled in a supervised way**.\n",
    "![Classification](images/512px-Kernel_Machine.svg.png)\n",
    "2. **Regression**: Supervised. Modeling and analyzing several variables, when the focus is on the relationship between a dependent variable and one or more independent variables.\n",
    "![LinearRegression](images/Linear_regression.svg)\n",
    "3. **Clustering**: a set of inputs is to be divided into groups. Unlike in classification, the groups are not known beforehand. Typically an unsupervised task.\n",
    "![](images/601px-Cluster-2.svg.png)\n",
    "4. **Density**: Estimation finds the distribution of inputs in some space.\n",
    "![](images/unnamed-chunk-4-1.png)\n",
    "5. **Dimensionality reduction**: Simplifies inputs by mapping them into a lower-dimensional space.\n",
    "![](images/Dimensionality_Reduction_1.jpg)\n",
    "-----"
   ]
  },
  {
   "cell_type": "markdown",
   "metadata": {},
   "source": [
    "### Part 5: Machine Learning - Examples\n",
    "\n",
    "\n",
    "    \n",
    "-----"
   ]
  },
  {
   "cell_type": "markdown",
   "metadata": {},
   "source": [
    "### Part 6: Bonus: Dimensionality Reduction\n",
    "\n",
    "\n",
    "    \n",
    "-----"
   ]
  }
 ],
 "metadata": {
  "kernelspec": {
   "display_name": "Python 3",
   "language": "python",
   "name": "python3"
  },
  "language_info": {
   "codemirror_mode": {
    "name": "ipython",
    "version": 3
   },
   "file_extension": ".py",
   "mimetype": "text/x-python",
   "name": "python",
   "nbconvert_exporter": "python",
   "pygments_lexer": "ipython3",
   "version": "3.7.1"
  }
 },
 "nbformat": 4,
 "nbformat_minor": 2
}
